{
 "cells": [
  {
   "cell_type": "markdown",
   "id": "0495b822",
   "metadata": {},
   "source": [
    "# Mohammad Amin Rami\n",
    "# 98101588\n",
    "# Question 4"
   ]
  },
  {
   "cell_type": "code",
   "execution_count": 1,
   "id": "3f87893d",
   "metadata": {},
   "outputs": [],
   "source": [
    "import cvxpy as cp "
   ]
  },
  {
   "cell_type": "markdown",
   "id": "5f40401b",
   "metadata": {},
   "source": [
    "**Part 1: For 1/x to be convex, x must be positive**"
   ]
  },
  {
   "cell_type": "code",
   "execution_count": 2,
   "id": "21ad1679",
   "metadata": {},
   "outputs": [],
   "source": [
    "x = cp.Variable()\n",
    "y = cp.Variable()\n",
    "constraint = [cp.inv_pos(x) + cp.inv_pos(y) <= 1]"
   ]
  },
  {
   "cell_type": "markdown",
   "id": "edccd7cc",
   "metadata": {},
   "source": [
    "**Part 2: We set the constraints as below**"
   ]
  },
  {
   "cell_type": "code",
   "execution_count": 3,
   "id": "95c996bd",
   "metadata": {},
   "outputs": [],
   "source": [
    "x = cp.Variable()\n",
    "y = cp.Variable()\n",
    "constraint = [x >= cp.inv_pos(y), x>=0]"
   ]
  },
  {
   "cell_type": "markdown",
   "id": "8b50d940",
   "metadata": {},
   "source": [
    "**Part 3: We set the constraints as below. Note that quad_over_lin is a decereasing function. The composition of a decreasing function and a concave one is convex. Sqrt is concave Thus we can provide it to quad_over_lin and still preserve convexity**"
   ]
  },
  {
   "cell_type": "code",
   "execution_count": 4,
   "id": "172ce2ed",
   "metadata": {},
   "outputs": [],
   "source": [
    "x = cp.Variable()\n",
    "y = cp.Variable()\n",
    "constraint = [cp.quad_over_lin(x + y, cp.sqrt(y))-x+y <= 5, y >= 0]"
   ]
  },
  {
   "cell_type": "markdown",
   "id": "d8af79e2",
   "metadata": {},
   "source": [
    "**part 4: Here xy is not concave so CVX rejects the statement. Using geomean like below we can reformulate the constraints so that it works.**"
   ]
  },
  {
   "cell_type": "code",
   "execution_count": 5,
   "id": "a0adb279",
   "metadata": {},
   "outputs": [],
   "source": [
    "x = cp.Variable()\n",
    "y = cp.Variable()\n",
    "z = cp.Variable()\n",
    "constraint = [x + z <= 1 + cp.geo_mean(cp.vstack([x - cp.quad_over_lin(z,y), y]))]"
   ]
  }
 ],
 "metadata": {
  "kernelspec": {
   "display_name": "Python 3 (ipykernel)",
   "language": "python",
   "name": "python3"
  },
  "language_info": {
   "codemirror_mode": {
    "name": "ipython",
    "version": 3
   },
   "file_extension": ".py",
   "mimetype": "text/x-python",
   "name": "python",
   "nbconvert_exporter": "python",
   "pygments_lexer": "ipython3",
   "version": "3.7.9"
  }
 },
 "nbformat": 4,
 "nbformat_minor": 5
}
