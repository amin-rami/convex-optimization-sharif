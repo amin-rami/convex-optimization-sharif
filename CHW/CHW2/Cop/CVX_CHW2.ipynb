{
 "cells": [
  {
   "cell_type": "markdown",
   "metadata": {},
   "source": [
    "# CHW 2\n",
    "# Mohammad Amin Rami\n",
    "## 98101588\n"
   ]
  },
  {
   "cell_type": "markdown",
   "metadata": {},
   "source": [
    "                                       Mahyar Ghazanfari 98102057"
   ]
  },
  {
   "cell_type": "markdown",
   "metadata": {},
   "source": [
    "# Problem 1"
   ]
  },
  {
   "cell_type": "code",
   "execution_count": 3,
   "metadata": {},
   "outputs": [
    {
     "ename": "ModuleNotFoundError",
     "evalue": "No module named 'cvxpy'",
     "output_type": "error",
     "traceback": [
      "\u001b[1;31m---------------------------------------------------------------------------\u001b[0m",
      "\u001b[1;31mModuleNotFoundError\u001b[0m                       Traceback (most recent call last)",
      "\u001b[1;32m~\\AppData\\Local\\Temp\\ipykernel_13700\\1691802648.py\u001b[0m in \u001b[0;36m<module>\u001b[1;34m\u001b[0m\n\u001b[0;32m      1\u001b[0m \u001b[1;32mimport\u001b[0m \u001b[0mnumpy\u001b[0m \u001b[1;32mas\u001b[0m \u001b[0mnp\u001b[0m\u001b[1;33m\u001b[0m\u001b[1;33m\u001b[0m\u001b[0m\n\u001b[1;32m----> 2\u001b[1;33m \u001b[1;32mimport\u001b[0m \u001b[0mcvxpy\u001b[0m \u001b[1;32mas\u001b[0m \u001b[0mcp\u001b[0m\u001b[1;33m\u001b[0m\u001b[1;33m\u001b[0m\u001b[0m\n\u001b[0m\u001b[0;32m      3\u001b[0m \u001b[1;32mimport\u001b[0m \u001b[0mmatplotlib\u001b[0m\u001b[1;33m.\u001b[0m\u001b[0mpyplot\u001b[0m \u001b[1;32mas\u001b[0m \u001b[0mplt\u001b[0m\u001b[1;33m\u001b[0m\u001b[1;33m\u001b[0m\u001b[0m\n\u001b[0;32m      4\u001b[0m \u001b[1;33m\u001b[0m\u001b[0m\n\u001b[0;32m      5\u001b[0m \u001b[0mrho\u001b[0m \u001b[1;33m=\u001b[0m \u001b[1;33m[\u001b[0m\u001b[1;36m0.1\u001b[0m\u001b[1;33m,\u001b[0m \u001b[1;36m1\u001b[0m\u001b[1;33m,\u001b[0m \u001b[1;36m10\u001b[0m\u001b[1;33m,\u001b[0m \u001b[1;36m100\u001b[0m\u001b[1;33m]\u001b[0m\u001b[1;33m\u001b[0m\u001b[1;33m\u001b[0m\u001b[0m\n",
      "\u001b[1;31mModuleNotFoundError\u001b[0m: No module named 'cvxpy'"
     ]
    }
   ],
   "source": [
    "import numpy as np\n",
    "import cvxpy as cp\n",
    "import matplotlib.pyplot as plt\n",
    "\n",
    "rho = [0.1, 1, 10, 100]\n",
    "\n",
    "N = np.array([0, 4, 2, 2, 3, 0, 4, 5, 6, 6, 4, 1, 4, 4, 0, 1, 3, 4, 2, 0, 3, 2, 0, 1])\n",
    "\n",
    "constraints = []\n",
    "opt = []\n",
    "lamda = cp.Variable(np.size(N))\n",
    "\n",
    "fig = plt.figure(figsize=(15, 5))\n",
    "\n",
    "for i in rho:\n",
    "    objective = cp.Minimize(cp.sum(lamda)\n",
    "                            - cp.sum(cp.multiply(N, cp.log(lamda)))\n",
    "                            + i * cp.sum_squares(lamda[:-1]\n",
    "                            - lamda[1:]))\n",
    "                            \n",
    "    problem = cp.Problem(objective, constraints)\n",
    "    result = problem.solve()\n",
    "    opt.append(np.sum(lamda.value) - np.sum(N * np.log(lamda.value)))\n",
    "    plt.plot(np.arange(np.size(N)), lamda.value)\n",
    "\n",
    "plt.xlabel('t', size = 13)\n",
    "plt.ylabel(r'$\\lambda(t)$', size = 13)\n",
    "plt.title(r'$\\lambda(t)$'+ '  VS  t', size = 13)    \n",
    "plt.show()    \n",
    "\n",
    "fig = plt.figure(figsize=(15, 5))\n",
    "plt.xlabel(r'$\\rho $', size = 13)\n",
    "plt.ylabel('Optimal values', size = 13)\n",
    "plt.title('Optimal values per each '+ r'$\\rho $', size = 13)\n",
    "plt.plot(rho, opt, 'o', color = 'black')\n",
    "plt.show()\n"
   ]
  },
  {
   "cell_type": "markdown",
   "metadata": {},
   "source": [
    "# Problem 2"
   ]
  },
  {
   "cell_type": "code",
   "execution_count": 2,
   "metadata": {},
   "outputs": [
    {
     "name": "stdout",
     "output_type": "stream",
     "text": [
      "x.value is :  [ 3.99999996 22.49999989 30.99999995  1.50000005]\n",
      "\n",
      "r is : [ 11.99999989  32.49999989 138.99999981   9.00000032]\n",
      "\n",
      "totla r is : 192.49999991412406\n",
      "\n",
      "average_price is : [3.         1.44444445 4.48387097 6.        ]\n"
     ]
    },
    {
     "name": "stderr",
     "output_type": "stream",
     "text": [
      "c:\\users\\maram\\appdata\\local\\programs\\python\\python37\\lib\\site-packages\\cvxpy\\expressions\\expression.py:612: UserWarning: \n",
      "This use of ``*`` has resulted in matrix multiplication.\n",
      "Using ``*`` for matrix multiplication has been deprecated since CVXPY 1.1.\n",
      "    Use ``*`` for matrix-scalar and vector-scalar multiplication.\n",
      "    Use ``@`` for matrix-matrix and matrix-vector multiplication.\n",
      "    Use ``multiply`` for elementwise multiplication.\n",
      "This code path has been hit 1 times so far.\n",
      "\n",
      "  warnings.warn(msg, UserWarning)\n"
     ]
    }
   ],
   "source": [
    "import numpy as np\n",
    "import cvxpy as cp\n",
    "import matplotlib.pyplot as plt\n",
    "\n",
    "# Defining parameters as said in question \n",
    "\n",
    "A = np.array([[1, 2, 0, 1],\n",
    "              [0, 0, 3, 1],\n",
    "              [0, 3, 1, 1],\n",
    "              [2, 1, 2, 5],\n",
    "              [1, 0, 3, 2]])\n",
    "\n",
    "c_max = np.array([100, 100, 100, 100, 100])\n",
    "\n",
    "p = np.array([3, 2, 7, 6])\n",
    "\n",
    "q = np.array([4, 10, 5, 10])\n",
    "\n",
    "p_disc = np.array([2, 1, 4, 2])\n",
    "\n",
    "n = 4\n",
    "\n",
    "x = cp.Variable(n)\n",
    "\n",
    "# Constructing the problem\n",
    "\n",
    "alpha1 = cp.multiply(p, x)\n",
    "alpha2 = cp.multiply(p, q) + cp.multiply(p_disc, x - q)\n",
    "objective = cp.Maximize(cp.sum(cp.minimum(alpha1, alpha2)))\n",
    "constraints = [x >= 0, A*x <= c_max]\n",
    "prob = cp.Problem(objective, constraints)\n",
    "prob.solve()\n",
    "\n",
    "# Solving the problem\n",
    "\n",
    "r = cp.minimum(alpha1, alpha2).value\n",
    "total_r = sum(r)\n",
    "avg_price = r / x.value\n",
    "\n",
    "# Displaying the results\n",
    "\n",
    "print('x.value is : ',x.value)\n",
    "print()\n",
    "print('r is :',r)\n",
    "print()\n",
    "print('totla r is :',total_r)\n",
    "print()\n",
    "print('average_price is :',avg_price)\n"
   ]
  },
  {
   "cell_type": "markdown",
   "metadata": {},
   "source": [
    "# Problem 3"
   ]
  },
  {
   "cell_type": "code",
   "execution_count": 73,
   "metadata": {},
   "outputs": [
    {
     "data": {
      "text/plain": [
       "Text(0.5, 1.0, 'Speed in each segment')"
      ]
     },
     "execution_count": 73,
     "metadata": {},
     "output_type": "execute_result"
    },
    {
     "data": {
      "image/png": "[encoded data removed]",
      "text/plain": [
       "<Figure size 720x432 with 1 Axes>"
      ]
     },
     "metadata": {
      "needs_background": "light"
     },
     "output_type": "display_data"
    }
   ],
   "source": [
    "import numpy as np\n",
    "import cvxpy as cp\n",
    "import matplotlib.pyplot as plt\n",
    "from veh_speed_sched_data import *\n",
    "\n",
    "# Defining objective function\n",
    "\n",
    "time = cp.Variable(n)\n",
    "objective = cp.sum(a*cp.multiply(cp.square(d), cp.inv_pos(time))+c*time+b*d)\n",
    "\n",
    "# Defining constraints:\n",
    "\n",
    "constraints = [tau_min[j] <= cp.sum(time[0:j+1]) for j in range(n)]\n",
    "constraints += [tau_max[j] >= cp.sum(time[0:j+1]) for j in range(n)]\n",
    "constraints += [time >= d/smax, time <= d/smin]\n",
    "\n",
    "# Solving the problem:\n",
    "\n",
    "cp.Problem(cp.Minimize(objective), constraints).solve()\n",
    "speeds = d/time.value\n",
    "\n",
    "# Plotting the result\n",
    "\n",
    "plt.figure(figsize=(10,6))\n",
    "plt.step(range(n),speeds,color = 'black');\n",
    "plt.xlabel('Segment', size = 14, color ='blue')\n",
    "plt.ylabel('Speed', size = 14, color = 'blue')\n",
    "plt.title('Speed in each segment', size = 14, color = 'blue')\n"
   ]
  },
  {
   "cell_type": "markdown",
   "metadata": {},
   "source": [
    "# Problem 4\n"
   ]
  },
  {
   "cell_type": "code",
   "execution_count": 74,
   "metadata": {},
   "outputs": [],
   "source": [
    "import cvxpy as cp"
   ]
  },
  {
   "cell_type": "markdown",
   "metadata": {},
   "source": [
    "Part 1: Domain of 1/x must be real and positive, otherwise 1/x will not be convex.\n"
   ]
  },
  {
   "cell_type": "code",
   "execution_count": 75,
   "metadata": {},
   "outputs": [],
   "source": [
    "x = cp.Variable()\n",
    "y = cp.Variable()\n",
    "constraint = [cp.inv_pos(x) + cp.inv_pos(y) <= 1]"
   ]
  },
  {
   "cell_type": "markdown",
   "metadata": {},
   "source": [
    "Part 2: xy is not concave, we can rewrite the constraints as below:"
   ]
  },
  {
   "cell_type": "code",
   "execution_count": 76,
   "metadata": {},
   "outputs": [],
   "source": [
    "x = cp.Variable()\n",
    "y = cp.Variable()\n",
    "constraint = [x >= cp.inv_pos(y), x>=0]"
   ]
  },
  {
   "cell_type": "markdown",
   "metadata": {},
   "source": [
    "Part 3: We can write constraints as below.This works because quad_over_lin constraint that we used is monotone decreasing in the second argument, so it can accept a concave function here, and sqrt is concave."
   ]
  },
  {
   "cell_type": "code",
   "execution_count": 77,
   "metadata": {},
   "outputs": [],
   "source": [
    "x = cp.Variable()\n",
    "y = cp.Variable()\n",
    "constraint = [cp.quad_over_lin(x + y, cp.sqrt(y))-x+y <= 5, y >= 0]"
   ]
  },
  {
   "cell_type": "markdown",
   "metadata": {},
   "source": [
    "part 4: Here xy is not concave so CVX rejects the statement. Using geomean like below we can reformulate the constraints so that it works."
   ]
  },
  {
   "cell_type": "code",
   "execution_count": 78,
   "metadata": {},
   "outputs": [],
   "source": [
    "x = cp.Variable()\n",
    "y = cp.Variable()\n",
    "z = cp.Variable()\n",
    "constraint = [x + z <= 1 + cp.geo_mean(cp.vstack([x - cp.quad_over_lin(z,y), y]))]"
   ]
  }
 ],
 "metadata": {
  "kernelspec": {
   "display_name": "Python 3 (ipykernel)",
   "language": "python",
   "name": "python3"
  },
  "language_info": {
   "codemirror_mode": {
    "name": "ipython",
    "version": 3
   },
   "file_extension": ".py",
   "mimetype": "text/x-python",
   "name": "python",
   "nbconvert_exporter": "python",
   "pygments_lexer": "ipython3",
   "version": "3.7.9"
  }
 },
 "nbformat": 4,
 "nbformat_minor": 4
}
