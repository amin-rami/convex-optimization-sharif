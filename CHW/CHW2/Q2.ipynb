{
 "cells": [
  {
   "cell_type": "markdown",
   "id": "dc525919",
   "metadata": {},
   "source": [
    "# Mohammad Amin Rami\n",
    "# 98101588\n",
    "# Question 2"
   ]
  },
  {
   "cell_type": "code",
   "execution_count": 12,
   "id": "e941a153",
   "metadata": {},
   "outputs": [
    {
     "name": "stdout",
     "output_type": "stream",
     "text": [
      "Final Results:\n",
      "======================================================================\n",
      "x.value is :  [ 3.99999996 22.49999989 30.99999995  1.50000005]\n",
      "----------------------------------------------------------------------\n",
      "r is : [ 11.99999989  32.49999989 138.99999981   9.00000032]\n",
      "----------------------------------------------------------------------\n",
      "totla r is : 192.49999991412406\n",
      "----------------------------------------------------------------------\n",
      "average_price is : [3.         1.44444445 4.48387097 6.        ]\n",
      "======================================================================\n"
     ]
    }
   ],
   "source": [
    "import numpy as np\n",
    "import cvxpy as cp\n",
    "import matplotlib.pyplot as plt\n",
    "\n",
    "# Setting parameters of question\n",
    "A = np.array([[1, 2, 0, 1],\n",
    "              [0, 0, 3, 1],\n",
    "              [0, 3, 1, 1],\n",
    "              [2, 1, 2, 5],\n",
    "              [1, 0, 3, 2]])\n",
    "c_max = np.array([100, 100, 100, 100, 100])\n",
    "p = np.array([3, 2, 7, 6])\n",
    "q = np.array([4, 10, 5, 10])\n",
    "p_disc = np.array([2, 1, 4, 2])\n",
    "n = 4\n",
    "x = cp.Variable(n)\n",
    "\n",
    "# Setting up the problem for cvxpy\n",
    "alpha1 = cp.multiply(p, x)\n",
    "alpha2 = cp.multiply(p, q) + cp.multiply(p_disc, x - q)\n",
    "objective = cp.Maximize(cp.sum(cp.minimum(alpha1, alpha2)))\n",
    "constraints = [x >= 0, A @ x <= c_max]\n",
    "prob = cp.Problem(objective, constraints)\n",
    "prob.solve()\n",
    "\n",
    "# Solution\n",
    "r = cp.minimum(alpha1, alpha2).value\n",
    "total_r = sum(r)\n",
    "avg_price = r / x.value\n",
    "\n",
    "# Results\n",
    "print(\"Final Results:\")\n",
    "print('='*70)\n",
    "print('x.value is : ',x.value)\n",
    "print('-' * 70)\n",
    "print('r is :',r)\n",
    "print('-' * 70)\n",
    "print('totla r is :',total_r)\n",
    "print('-' * 70)\n",
    "print('average_price is :',avg_price)\n",
    "print('='*70)"
   ]
  }
 ],
 "metadata": {
  "kernelspec": {
   "display_name": "Python 3 (ipykernel)",
   "language": "python",
   "name": "python3"
  },
  "language_info": {
   "codemirror_mode": {
    "name": "ipython",
    "version": 3
   },
   "file_extension": ".py",
   "mimetype": "text/x-python",
   "name": "python",
   "nbconvert_exporter": "python",
   "pygments_lexer": "ipython3",
   "version": "3.7.9"
  }
 },
 "nbformat": 4,
 "nbformat_minor": 5
}
