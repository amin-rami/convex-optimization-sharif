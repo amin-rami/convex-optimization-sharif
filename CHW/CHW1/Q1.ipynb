{
 "cells": [
  {
   "cell_type": "markdown",
   "metadata": {},
   "source": [
    "# Mohammad Amin Rami\n",
    "# 98101588\n",
    "# CHW 1 Question 1\n",
    "# Eigenvalues And Eigenvectors"
   ]
  },
  {
   "cell_type": "code",
   "execution_count": 1,
   "metadata": {},
   "outputs": [],
   "source": [
    "import numpy as np"
   ]
  },
  {
   "cell_type": "code",
   "execution_count": 2,
   "metadata": {},
   "outputs": [],
   "source": [
    "def eig(A):\n",
    "    X = A\n",
    "    U = np.eye(A.shape[0])\n",
    "    for _ in range(500):\n",
    "        Q, R = np.linalg.qr(X)\n",
    "        X = R @ Q\n",
    "        U = U  @ Q\n",
    "        U = U / (np.linalg.norm(U, axis=0)).reshape(1, -1)\n",
    "    eig_values = [(value, index) for index, value in enumerate(np.diag(X))]\n",
    "    eig_values.sort(reverse=True, key=lambda x: x[0])\n",
    "    indices = [t[1] for t in eig_values]\n",
    "    X = X[:, indices]\n",
    "    X = X[indices, :]\n",
    "    U = U[:, indices]\n",
    "    return np.diag(X), U"
   ]
  },
  {
   "cell_type": "code",
   "execution_count": 3,
   "metadata": {},
   "outputs": [],
   "source": [
    "A = np.random.rand(3, 3)\n",
    "A = A + A.T"
   ]
  },
  {
   "cell_type": "code",
   "execution_count": 4,
   "metadata": {},
   "outputs": [
    {
     "name": "stdout",
     "output_type": "stream",
     "text": [
      "eigenvalues are: [ 3.05932885  0.82104516 -0.67543729]\n",
      "eigenvectors are: [[ 0.32656596 -0.94509703  0.01209431]\n",
      " [ 0.74764998  0.25047    -0.6150482 ]\n",
      " [ 0.57825097  0.20989611  0.78839675]]\n"
     ]
    }
   ],
   "source": [
    "lambdas, V = eig(A)\n",
    "print(f\"eigenvalues are: {lambdas}\")\n",
    "print(f\"eigenvectors are: {V}\")"
   ]
  },
  {
   "cell_type": "code",
   "execution_count": 5,
   "metadata": {},
   "outputs": [
    {
     "name": "stdout",
     "output_type": "stream",
     "text": [
      "Test is passed\n",
      "Algorithm work correctly\n"
     ]
    }
   ],
   "source": [
    "assert np.linalg.norm(A @ V - V @ np.diag(lambdas)) < 1e-10\n",
    "print('Test is passed')\n",
    "print('Algorithm work correctly')"
   ]
  }
 ],
 "metadata": {
  "kernelspec": {
   "display_name": "Python 3 (ipykernel)",
   "language": "python",
   "name": "python3"
  },
  "language_info": {
   "codemirror_mode": {
    "name": "ipython",
    "version": 3
   },
   "file_extension": ".py",
   "mimetype": "text/x-python",
   "name": "python",
   "nbconvert_exporter": "python",
   "pygments_lexer": "ipython3",
   "version": "3.11.0"
  }
 },
 "nbformat": 4,
 "nbformat_minor": 4
}
